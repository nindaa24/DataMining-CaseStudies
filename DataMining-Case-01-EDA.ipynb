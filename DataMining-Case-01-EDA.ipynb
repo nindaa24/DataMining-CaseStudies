{
 "cells": [
  {
   "cell_type": "markdown",
   "id": "a6835ef2",
   "metadata": {},
   "source": [
    "<center><h2><strong><font color=\"blue\">Study Case 01 - Data Mining dan Business Intelligence: EDA pada data property</font></strong></h2></center>\n",
    "\n",
    "<img alt=\"\" src=\"images/Ray-pink-Property-Case-Banner.jpg\"/>"
   ]
  },
  {
   "cell_type": "markdown",
   "id": "8cbd8d70",
   "metadata": {},
   "source": [
    "# Kasus:\n",
    "\n",
    "* Anda adalah seorang Data Analyst yang bekerja di PT **Ray Pink Property Indonesia** (RPPI).\n",
    "* RPPI adalah perusahaan property yang berdiri sejak 11 tahun yang lalu.\n",
    "* RPPI memliki kantor cabang di 7 propinsi di Indonesia dan jumlahnya terus bertambah.\n",
    "* Valuasi RPPI tahun ini mencapai Rp 7 Trilyun, meningkat 7% dari tahun sebelumnya.\n",
    "* Bidang usaha RPPI adalah investasi dan jual-beli property secara umum, termasuk bekerja sama dengan developer perumahan.\n",
    "* Data Engineer (DE)/Database Administrator (DBA) RPPI berhasil mengumpulkan data rumah-rumah yang dijual di beberapa kota di Indonesia.\n",
    "* Sebagai Data Analyst anda akan hadir dan melakukan presentasi pada rapat direksi untuk memberikan insight dari data ke upper management (C-Level, senior managers, dan komisaris perusahaan).\n",
    "* Di studi kasus ini anda mempersiapkan \"bahan presentasi\" dengan cara melakukan EDA pada data yang diterima dari DE/DBA."
   ]
  },
  {
   "cell_type": "markdown",
   "id": "0c3cb380",
   "metadata": {},
   "source": [
    "# Petunjuk:\n",
    "\n",
    "Di studi kasus pertama, anda mendapat bantuan keterangan dari manajemen. Setelah berdiskusi *over lunch* dengan beberapa manager senior, anda mendengar bahwa mereka ingin mengetahui:\n",
    "\n",
    "1. Kualitas data yang dimiliki perusahaan.\n",
    "2. Apakah ada saran perbaikan data ke DE/DBA perusahaan agar RPPI menjadi *data driven company* yang unggul.\n",
    "3. Dari data yang ada, apakah ada kecenderungan rumah disuatu kota lebih mahal/murah dibandingkan kota lain?\n",
    "4. Dari data yang ada, apakah bisa dibuat rekomendasi sebaiknya RPPI membuat kantor cabang berikutnya di kota mana? Mengapa? (Asumsikan RPPI belum memiliki cabang di kota-kota yang disebutkan di data).\n",
    "5. Rumah dengan karakteristik seperti apa yang paling banyak dijual?\n",
    "6. Jika RPPI ingin melakukan investasi (max) Rp. 25 Milyar minggu besok, apakah dari data anda dapat memberikan rekomendasi rumah mana saja yang akan berpotensi menghasilkan keuntungan bagi perusahaan?\n",
    "7. Dan yang terpenting, informasi berharga apa lagi yang bisa anda dapatkan dari data?"
   ]
  },
  {
   "cell_type": "markdown",
   "id": "691c8ffc",
   "metadata": {},
   "source": [
    "# Catatan:\n",
    "\n",
    "* Anda diperbolehkan melakukan augmentasi data (menambah data eksternal).\n",
    "* Yakinkan menuliskan asumsi anda atas kesimpulan dan rekomendasi yang diberikan ke perusahaan.\n",
    "* Yakinkan kesimpulan dan rekomendasi ditujukan ke perusahaan (bukan dosen mata kuliah).\n",
    "* Anda boleh menggunakan software visualisasi apapun, misal excel, Ms Word, Photoshop, dsb.\n",
    "* Yakinkan file images dapat dibuka (nampak) saat ipynb di Jupyter notebook anda dibuka di Google Colab.\n",
    " - Tips: hati-hati dalam melakukan penamaan file, Google colab case sensitive.\n",
    "* Interpretasi diberikan menggunakan cell markdown tepat dibawah output code yang relevan diatasnya.\n",
    "* Anda tidak diperkenankan bertanya pertanyaan yang:\n",
    " - Merupakan jawaban atau menjurus ke jawaban studi kasus.\n",
    " - Debugging - code error (anda diharapkan melakukan code troubleshooting sendiri via mesin pencari)\n",
    "* Pada studi kasus ini anda hanya diperkenankan untuk melakukan EDA (bukan modeling seperti prediksi/forecasting)"
   ]
  },
  {
   "cell_type": "markdown",
   "id": "848a2096",
   "metadata": {},
   "source": [
    "# Komponen Penilaian:\n",
    "\n",
    "* Code tidak diubah sejak deadline studi kasus.\n",
    "* Code dapat di \"Run-All\" di Google Colab oleh dosen tanpa error.\n",
    "* Pemilihan preprocessing dan visualisasi yang tepat\n",
    "* Interpretasi dan rekomendasi dengan narasi dan kualitas yang baik, serta berdasarkan atas (pengolahan) data.\n",
    "* Kreativitas dan inovasi pengolahan data dan penyajian visualisasi."
   ]
  },
  {
   "cell_type": "markdown",
   "id": "e5a333c7",
   "metadata": {},
   "source": [
    "# Data Understanding (DU):\n",
    "\n",
    "Keterangan Varabel:\n",
    "* TBA"
   ]
  },
  {
   "cell_type": "code",
   "execution_count": 1,
   "id": "ddd7f934",
   "metadata": {},
   "outputs": [],
   "source": [
    "# Loading Data:\n",
    "import pandas as pd\n",
    "\n",
    "# TBA"
   ]
  },
  {
   "cell_type": "code",
   "execution_count": null,
   "id": "ad900e66",
   "metadata": {},
   "outputs": [],
   "source": []
  }
 ],
 "metadata": {
  "kernelspec": {
   "display_name": "Python 3 (ipykernel)",
   "language": "python",
   "name": "python3"
  },
  "language_info": {
   "codemirror_mode": {
    "name": "ipython",
    "version": 3
   },
   "file_extension": ".py",
   "mimetype": "text/x-python",
   "name": "python",
   "nbconvert_exporter": "python",
   "pygments_lexer": "ipython3",
   "version": "3.7.13"
  }
 },
 "nbformat": 4,
 "nbformat_minor": 5
}
